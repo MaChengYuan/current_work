{
 "cells": [
  {
   "cell_type": "code",
   "execution_count": 22,
   "id": "748d9159-79b0-4564-8209-7243be891727",
   "metadata": {},
   "outputs": [],
   "source": [
    "import pandas as pd\n",
    "import os\n",
    "import json\n",
    "from transformers import GPT2Tokenizer\n",
    "from transformers import GPT2LMHeadModel\n",
    "\n",
    "from transformers import BertTokenizer\n",
    "from transformers import BertForMaskedLM\n",
    "\n",
    "\n",
    "\n",
    "# Load the dataset into a pandas dataframe.\n",
    "#df = pd.read_csv(\"./cola_public/raw/in_domain_train.tsv\", delimiter='\\t', header=None, names=['sentence_source', 'label', 'label_notes', 'sentence'])\n",
    "\n",
    "path ='snips/train.csv'\n",
    "train_df = pd.read_csv(path)\n",
    "\n",
    "path ='snips/dev.csv'\n",
    "val_df = pd.read_csv(path)\n",
    "\n",
    "\n",
    "\n",
    "\n",
    "output_file = 'snips_aug'\n",
    "os.makedirs(output_file, exist_ok=True)\n",
    "num_aug = 6\n",
    "alpha = 0.1"
   ]
  },
  {
   "cell_type": "code",
   "execution_count": 23,
   "id": "ef2e3c93-e2ef-4097-975d-d65b65259d4c",
   "metadata": {},
   "outputs": [
    {
     "name": "stdout",
     "output_type": "stream",
     "text": [
      "generated augmented sentences with eda for to snips_aug/eda.tsv with num_aug=6\n"
     ]
    }
   ],
   "source": [
    "from eda import *\n",
    "#eda\n",
    "file_name = 'eda.tsv'\n",
    "output_dir = os.path.join(output_file, file_name)\n",
    "gen_eda(train_df,output_dir , alpha=alpha, num_aug=num_aug , reverse = False)\n"
   ]
  },
  {
   "cell_type": "code",
   "execution_count": 13,
   "id": "f21a56c1-d803-49c5-b0b2-a0a2d405f6b9",
   "metadata": {},
   "outputs": [
    {
     "name": "stderr",
     "output_type": "stream",
     "text": [
      "  0%|                                      | 6/13084 [01:05<39:42:06, 10.93s/it]\n",
      "\n",
      "KeyboardInterrupt\n",
      "\n"
     ]
    }
   ],
   "source": [
    "#backtranslate\n",
    "from backtranslation import *\n",
    "from transformers import MarianMTModel, MarianTokenizer\n",
    "first_model_name = 'Helsinki-NLP/opus-mt-en-ROMANCE'\n",
    "\n",
    "# Get the tokenizer\n",
    "first_model_tkn = MarianTokenizer.from_pretrained(first_model_name)\n",
    "\n",
    "# Load the pretrained model based on the name\n",
    "first_model = MarianMTModel.from_pretrained(first_model_name)\n",
    "\n",
    "\n",
    "second_model_name = 'Helsinki-NLP/opus-mt-ROMANCE-en'\n",
    "\n",
    "# Get the tokenizer\n",
    "second_model_tkn = MarianTokenizer.from_pretrained(second_model_name)\n",
    "\n",
    "# Load the pretrained model based on the name\n",
    "second_model = MarianMTModel.from_pretrained(second_model_name)\n",
    "\n",
    "\n",
    "\n",
    "file_name = 'backtranslate.tsv'\n",
    "output_dir = os.path.join(output_file, file_name)\n",
    "gen_backtranslation(first_model,second_model,first_model_tkn,second_model_tkn, train_df,output_dir , num_aug=num_aug )\n"
   ]
  },
  {
   "cell_type": "code",
   "execution_count": 15,
   "id": "b1fc34cd-658e-4bd9-922c-a208eb0ae7aa",
   "metadata": {},
   "outputs": [
    {
     "name": "stderr",
     "output_type": "stream",
     "text": [
      "Some weights of the model checkpoint at bert-base-uncased were not used when initializing BertForMaskedLM: ['bert.pooler.dense.bias', 'cls.seq_relationship.weight', 'bert.pooler.dense.weight', 'cls.seq_relationship.bias']\n",
      "- This IS expected if you are initializing BertForMaskedLM from the checkpoint of a model trained on another task or with another architecture (e.g. initializing a BertForSequenceClassification model from a BertForPreTraining model).\n",
      "- This IS NOT expected if you are initializing BertForMaskedLM from the checkpoint of a model that you expect to be exactly identical (initializing a BertForSequenceClassification model from a BertForSequenceClassification model).\n"
     ]
    },
    {
     "name": "stdout",
     "output_type": "stream",
     "text": [
      "dev\n"
     ]
    },
    {
     "name": "stderr",
     "output_type": "stream",
     "text": [
      "/opt/homebrew/Cellar/jupyterlab/4.0.6_1/libexec/lib/python3.11/site-packages/transformers/optimization.py:429: FutureWarning: This implementation of AdamW is deprecated and will be removed in a future version. Use the PyTorch implementation torch.optim.AdamW instead, or set `no_deprecation_warning=True` to disable this warning\n",
      "  warnings.warn(\n"
     ]
    },
    {
     "name": "stdout",
     "output_type": "stream",
     "text": [
      "cbert training\n"
     ]
    },
    {
     "name": "stderr",
     "output_type": "stream",
     "text": [
      "Epoch:   0%|                                              | 0/5 [00:00<?, ?it/s]"
     ]
    },
    {
     "name": "stdout",
     "output_type": "stream",
     "text": [
      "avg_loss: 4.495163044929504\n",
      "avg_loss: 7.902742605209351\n",
      "avg_loss: 11.043930871486664\n",
      "avg_loss: 14.541392104625702\n",
      "avg_loss: 17.531329519748688\n",
      "avg_loss: 20.590314042568206\n",
      "avg_loss: 23.412345073223115\n",
      "avg_loss: 26.362106347084044\n",
      "avg_loss: 29.157427855730056\n",
      "avg_loss: 32.17669120907784\n",
      "avg_loss: 34.903628143072126\n",
      "avg_loss: 37.530755033493044\n",
      "avg_loss: 40.257613781690594\n",
      "avg_loss: 43.00781525969505\n",
      "avg_loss: 45.86387585759163\n",
      "avg_loss: 48.67397572159767\n",
      "avg_loss: 51.26627303957939\n",
      "avg_loss: 53.70267708659172\n",
      "avg_loss: 56.349724991321565\n",
      "avg_loss: 58.99730587363243\n",
      "avg_loss: 61.45393380761146\n",
      "avg_loss: 64.04581080317497\n",
      "avg_loss: 66.57990587592126\n",
      "avg_loss: 69.26665881752967\n",
      "avg_loss: 71.88729172825813\n",
      "avg_loss: 74.35718690276146\n",
      "avg_loss: 76.9828306400776\n",
      "avg_loss: 79.55305804133415\n",
      "avg_loss: 82.02107431769372\n",
      "avg_loss: 84.56832990050316\n",
      "avg_loss: 87.04440972685813\n",
      "avg_loss: 89.57804503083229\n",
      "Saving model. Best dev so far 194.81323772668839\n"
     ]
    },
    {
     "name": "stderr",
     "output_type": "stream",
     "text": [
      "Epoch:  20%|██████▍                         | 1/5 [1:26:20<5:45:21, 5180.27s/it]"
     ]
    },
    {
     "name": "stdout",
     "output_type": "stream",
     "text": [
      "avg_loss: 1.5400919115543366\n",
      "avg_loss: 2.994024369418621\n",
      "avg_loss: 4.543568948805333\n",
      "avg_loss: 5.884862461090088\n",
      "avg_loss: 7.349315676987171\n",
      "avg_loss: 8.901324972212315\n",
      "avg_loss: 10.428911223709584\n",
      "avg_loss: 12.073075688183307\n",
      "avg_loss: 13.552963669598103\n",
      "avg_loss: 15.024705839455128\n",
      "avg_loss: 16.560887205898762\n",
      "avg_loss: 18.08679705709219\n",
      "avg_loss: 19.654667475521563\n",
      "avg_loss: 21.228222669064998\n",
      "avg_loss: 22.77995780736208\n",
      "avg_loss: 24.123873654007912\n",
      "avg_loss: 25.579619467556476\n",
      "avg_loss: 27.29033319324255\n",
      "avg_loss: 28.68079703181982\n",
      "avg_loss: 30.18823422342539\n",
      "avg_loss: 31.667161411345006\n",
      "avg_loss: 33.19863509327173\n",
      "avg_loss: 34.91436744242907\n",
      "avg_loss: 36.64163749963045\n",
      "avg_loss: 38.132379486858845\n",
      "avg_loss: 39.60850447922945\n",
      "avg_loss: 41.08303214520216\n",
      "avg_loss: 42.54611343950033\n",
      "avg_loss: 44.06998547643423\n",
      "avg_loss: 45.5510340437293\n",
      "avg_loss: 47.02332474023104\n",
      "avg_loss: 48.60068127721548\n"
     ]
    },
    {
     "name": "stderr",
     "output_type": "stream",
     "text": [
      "Epoch:  40%|████████████▊                   | 2/5 [3:00:03<4:32:02, 5440.71s/it]"
     ]
    },
    {
     "name": "stdout",
     "output_type": "stream",
     "text": [
      "avg_loss: 0.8541350695490837\n",
      "avg_loss: 1.639777388125658\n",
      "avg_loss: 2.4827465592324733\n",
      "avg_loss: 3.243943141847849\n",
      "avg_loss: 3.971778133586049\n",
      "avg_loss: 4.814675353839993\n",
      "avg_loss: 5.570617110803723\n",
      "avg_loss: 6.33924651838839\n",
      "avg_loss: 7.1417496804147955\n",
      "avg_loss: 7.803676887527108\n",
      "avg_loss: 8.649888946488499\n",
      "avg_loss: 9.519130247905851\n",
      "avg_loss: 10.43245532400906\n",
      "avg_loss: 11.352245573736727\n",
      "avg_loss: 12.046244563497602\n",
      "avg_loss: 12.940567997135222\n",
      "avg_loss: 13.755954326726496\n",
      "avg_loss: 14.590860640071332\n",
      "avg_loss: 15.452066089771687\n",
      "avg_loss: 16.3786233862862\n",
      "avg_loss: 17.225232111103832\n",
      "avg_loss: 18.14378729958087\n",
      "avg_loss: 19.039284701384602\n",
      "avg_loss: 20.003484743274747\n",
      "avg_loss: 20.96199043665081\n",
      "avg_loss: 21.789703830815853\n",
      "avg_loss: 22.672743870057165\n",
      "avg_loss: 23.593588831759988\n",
      "avg_loss: 24.578316338397563\n",
      "avg_loss: 25.375848966650665\n",
      "avg_loss: 26.379640010856093\n",
      "avg_loss: 27.328818916343153\n"
     ]
    },
    {
     "name": "stderr",
     "output_type": "stream",
     "text": [
      "Epoch:  60%|███████████████████▏            | 3/5 [4:28:09<2:59:00, 5370.06s/it]"
     ]
    },
    {
     "name": "stdout",
     "output_type": "stream",
     "text": [
      "avg_loss: 0.47167011637240647\n",
      "avg_loss: 0.8798945780470967\n",
      "avg_loss: 1.295576360039413\n",
      "avg_loss: 1.7028274946287274\n",
      "avg_loss: 2.055045905755833\n",
      "avg_loss: 2.5303889960516246\n",
      "avg_loss: 3.007975461827591\n",
      "avg_loss: 3.44352102776058\n",
      "avg_loss: 3.8859040751773866\n",
      "avg_loss: 4.2959600512403995\n",
      "avg_loss: 4.674018903346732\n",
      "avg_loss: 5.0995843887049706\n",
      "avg_loss: 5.581338547701016\n",
      "avg_loss: 6.071977218920365\n",
      "avg_loss: 6.565179829979315\n",
      "avg_loss: 7.157674595313146\n",
      "avg_loss: 7.66734190040268\n",
      "avg_loss: 8.186810346106068\n",
      "avg_loss: 8.722386938491836\n",
      "avg_loss: 9.229629247197881\n",
      "avg_loss: 9.741413688594475\n",
      "avg_loss: 10.291138072991744\n",
      "avg_loss: 10.822754083061591\n",
      "avg_loss: 11.405060563692823\n",
      "avg_loss: 11.974147466430441\n",
      "avg_loss: 12.593038203874602\n",
      "avg_loss: 13.198548249835149\n",
      "avg_loss: 13.68619912060909\n",
      "avg_loss: 14.309120162753388\n",
      "avg_loss: 14.898887757090852\n",
      "avg_loss: 15.43689465115778\n",
      "avg_loss: 16.061854663370177\n"
     ]
    },
    {
     "name": "stderr",
     "output_type": "stream",
     "text": [
      "Epoch:  80%|█████████████████████████▌      | 4/5 [6:29:14<1:41:58, 6118.11s/it]"
     ]
    },
    {
     "name": "stdout",
     "output_type": "stream",
     "text": [
      "avg_loss: 0.24290636576712132\n",
      "avg_loss: 0.5178787851333618\n",
      "avg_loss: 0.7649342346936464\n",
      "avg_loss: 1.0644465441443025\n",
      "avg_loss: 1.3456962476484478\n",
      "avg_loss: 1.6930961956828832\n",
      "avg_loss: 1.9559911781176924\n",
      "avg_loss: 2.284997099414468\n",
      "avg_loss: 2.6494793577119706\n",
      "avg_loss: 3.0729851764440537\n",
      "avg_loss: 3.413222542833537\n",
      "avg_loss: 3.7755851345323026\n",
      "avg_loss: 4.132969866674394\n",
      "avg_loss: 4.5166989563591775\n",
      "avg_loss: 4.8883140098117295\n",
      "avg_loss: 5.2380692980997265\n",
      "avg_loss: 5.592540677282959\n",
      "avg_loss: 5.897577770967036\n",
      "avg_loss: 6.270288550257683\n",
      "avg_loss: 6.6842840798571705\n",
      "avg_loss: 7.105153619833291\n",
      "avg_loss: 7.4308138335123655\n",
      "avg_loss: 7.83620543576777\n",
      "avg_loss: 8.232997563555836\n",
      "avg_loss: 8.567782717384398\n",
      "avg_loss: 8.952898403815926\n",
      "avg_loss: 9.29947242628783\n",
      "avg_loss: 9.677701146937906\n",
      "avg_loss: 10.02425812460482\n",
      "avg_loss: 10.418047760054469\n",
      "avg_loss: 10.748870622678659\n",
      "avg_loss: 11.118780562593601\n"
     ]
    },
    {
     "name": "stderr",
     "output_type": "stream",
     "text": [
      "Epoch: 100%|█████████████████████████████████| 5/5 [13:09:52<00:00, 9478.54s/it]\n"
     ]
    },
    {
     "name": "stdout",
     "output_type": "stream",
     "text": [
      "generating\n"
     ]
    },
    {
     "name": "stderr",
     "output_type": "stream",
     "text": [
      "1636it [23:13,  1.17it/s]\n"
     ]
    }
   ],
   "source": [
    "from cbert import *\n",
    "#cbert\n",
    "\n",
    "BERT_MODEL = 'bert-base-uncased'\n",
    "tokenizer = BertTokenizer.from_pretrained(BERT_MODEL,\n",
    "                                              do_lower_case=True,\n",
    "                                              cache_dir='transformers_cache')\n",
    "\n",
    "model = BertForMaskedLM.from_pretrained(BERT_MODEL,\n",
    "                                        cache_dir='transformers_cache')\n",
    "\n",
    "file_name = 'cbert.tsv'\n",
    "train_cbert_and_augment(model, tokenizer,train_df,val_df,output=output_file,file_name=file_name\n",
    "                            ,seed = 1234,max_seq_length = 64,sample_num=num_aug)"
   ]
  },
  {
   "cell_type": "code",
   "execution_count": 16,
   "id": "6596b13a-1600-40e7-883c-8d1e945682e9",
   "metadata": {},
   "outputs": [
    {
     "name": "stderr",
     "output_type": "stream",
     "text": [
      "/opt/homebrew/Cellar/jupyterlab/4.0.6_1/libexec/lib/python3.11/site-packages/transformers/optimization.py:429: FutureWarning: This implementation of AdamW is deprecated and will be removed in a future version. Use the PyTorch implementation torch.optim.AdamW instead, or set `no_deprecation_warning=True` to disable this warning\n",
      "  warnings.warn(\n"
     ]
    },
    {
     "name": "stdout",
     "output_type": "stream",
     "text": [
      "cgpt2 training\n"
     ]
    },
    {
     "name": "stderr",
     "output_type": "stream",
     "text": [
      "Epoch:   0%|                                              | 0/5 [00:00<?, ?it/s]"
     ]
    },
    {
     "name": "stdout",
     "output_type": "stream",
     "text": [
      "avg_loss: 3.7287318992614744\n",
      "avg_loss: 6.714859657287597\n",
      "avg_loss: 9.628883452415467\n",
      "avg_loss: 12.428901252746583\n",
      "avg_loss: 15.143409280776977\n",
      "avg_loss: 17.771006217002867\n",
      "avg_loss: 20.39328681945801\n",
      "avg_loss: 22.95526006221771\n",
      "Epoch 0, Dev loss 55.9491229057312\n",
      "Saving model. Best dev so far 55.9491229057312\n"
     ]
    },
    {
     "name": "stderr",
     "output_type": "stream",
     "text": [
      "Epoch:  20%|██████▊                           | 1/5 [48:14<3:12:58, 2894.65s/it]"
     ]
    },
    {
     "name": "stdout",
     "output_type": "stream",
     "text": [
      "avg_loss: 2.3849848914146423\n",
      "avg_loss: 4.814078171253204\n",
      "avg_loss: 7.238005201816559\n",
      "avg_loss: 9.612820675373078\n",
      "avg_loss: 11.980291244983674\n",
      "avg_loss: 14.321470906734467\n",
      "avg_loss: 16.652302753925323\n",
      "avg_loss: 18.974288737773897\n",
      "Epoch 1, Dev loss 53.13600766658783\n",
      "Saving model. Best dev so far 53.13600766658783\n"
     ]
    },
    {
     "name": "stderr",
     "output_type": "stream",
     "text": [
      "Epoch:  40%|████████████▊                   | 2/5 [1:36:46<2:25:14, 2904.95s/it]"
     ]
    },
    {
     "name": "stdout",
     "output_type": "stream",
     "text": [
      "avg_loss: 2.231032271385193\n",
      "avg_loss: 4.422463586330414\n",
      "avg_loss: 6.623977324962616\n",
      "avg_loss: 8.823962111473083\n",
      "avg_loss: 11.048737499713898\n",
      "avg_loss: 13.26142118692398\n",
      "avg_loss: 15.474450755119324\n",
      "avg_loss: 17.658289983272553\n",
      "Epoch 2, Dev loss 52.110154032707214\n",
      "Saving model. Best dev so far 52.110154032707214\n"
     ]
    },
    {
     "name": "stderr",
     "output_type": "stream",
     "text": [
      "Epoch:  60%|███████████████████▏            | 3/5 [2:24:48<1:36:28, 2894.42s/it]"
     ]
    },
    {
     "name": "stdout",
     "output_type": "stream",
     "text": [
      "avg_loss: 2.059814112186432\n",
      "avg_loss: 4.159008712768554\n",
      "avg_loss: 6.230222067832947\n",
      "avg_loss: 8.340891079902649\n",
      "avg_loss: 10.442448382377625\n",
      "avg_loss: 12.53489836215973\n",
      "avg_loss: 14.637082171440124\n",
      "avg_loss: 16.69868586063385\n",
      "Epoch 3, Dev loss 51.37813997268677\n",
      "Saving model. Best dev so far 51.37813997268677\n"
     ]
    },
    {
     "name": "stderr",
     "output_type": "stream",
     "text": [
      "Epoch:  80%|███████████████████████████▏      | 4/5 [3:06:19<45:35, 2735.01s/it]"
     ]
    },
    {
     "name": "stdout",
     "output_type": "stream",
     "text": [
      "avg_loss: 1.980934329032898\n",
      "avg_loss: 3.9697443628311158\n",
      "avg_loss: 5.935226905345917\n",
      "avg_loss: 7.935974450111389\n",
      "avg_loss: 9.930135815143585\n",
      "avg_loss: 11.903565304279327\n",
      "avg_loss: 13.884389538764953\n",
      "avg_loss: 15.876729159355163\n",
      "Epoch 4, Dev loss 51.050734758377075\n",
      "Saving model. Best dev so far 51.050734758377075\n"
     ]
    },
    {
     "name": "stderr",
     "output_type": "stream",
     "text": [
      "Epoch: 100%|██████████████████████████████████| 5/5 [3:43:14<00:00, 2678.89s/it]\n",
      "13084it [3:12:34,  1.13it/s]\n"
     ]
    }
   ],
   "source": [
    "from cgpt2 import *\n",
    "#gpt2\n",
    "\n",
    "GPT2_MODEL = 'gpt2'\n",
    "\n",
    "tokenizer = GPT2Tokenizer.from_pretrained(GPT2_MODEL,\n",
    "                                              do_lower_case=True,\n",
    "                                          cache_dir='transformers_cache')\n",
    "\n",
    "model = GPT2LMHeadModel.from_pretrained(GPT2_MODEL,\n",
    "                                        cache_dir='transformers_cache')\n",
    "\n",
    "\n",
    "\n",
    "file_name = 'gpt2.tsv'\n",
    "train_cmodgpt2_and_augment(model,tokenizer,train_df,val_df,output=output_file,\n",
    "                           file_name=file_name,seed = 1234,max_seq_length = 64,sample_num=num_aug)"
   ]
  },
  {
   "cell_type": "code",
   "execution_count": null,
   "id": "17da1bf0-115b-4a76-b719-55b5d41995a3",
   "metadata": {},
   "outputs": [],
   "source": [
    "#"
   ]
  },
  {
   "cell_type": "code",
   "execution_count": 17,
   "id": "236e1fd1-f4b2-43a9-910c-bdcf74aab351",
   "metadata": {},
   "outputs": [
    {
     "name": "stderr",
     "output_type": "stream",
     "text": [
      "/opt/homebrew/Cellar/jupyterlab/4.0.6_1/libexec/lib/python3.11/site-packages/transformers/optimization.py:429: FutureWarning: This implementation of AdamW is deprecated and will be removed in a future version. Use the PyTorch implementation torch.optim.AdamW instead, or set `no_deprecation_warning=True` to disable this warning\n",
      "  warnings.warn(\n"
     ]
    },
    {
     "name": "stdout",
     "output_type": "stream",
     "text": [
      "cPosGpt2 training\n"
     ]
    },
    {
     "name": "stderr",
     "output_type": "stream",
     "text": [
      "Epoch:   0%|                                              | 0/5 [00:00<?, ?it/s]"
     ]
    },
    {
     "name": "stdout",
     "output_type": "stream",
     "text": [
      "avg_loss: 2.145108063220978\n",
      "avg_loss: 3.6639151430130004\n",
      "avg_loss: 5.071367611885071\n",
      "avg_loss: 6.444013276100159\n",
      "avg_loss: 7.750734555721283\n",
      "Epoch 0, Dev loss 18.53119206428528\n",
      "Saving model. Best dev so far 18.53119206428528\n"
     ]
    },
    {
     "name": "stderr",
     "output_type": "stream",
     "text": [
      "Epoch:  20%|███████▍                             | 1/5 [13:51<55:25, 831.42s/it]"
     ]
    },
    {
     "name": "stdout",
     "output_type": "stream",
     "text": [
      "avg_loss: 1.2314984095096588\n",
      "avg_loss: 2.435338739156723\n",
      "avg_loss: 3.595419811010361\n",
      "avg_loss: 4.81004798412323\n",
      "avg_loss: 6.002947694063186\n",
      "Epoch 1, Dev loss 17.58595246076584\n",
      "Saving model. Best dev so far 17.58595246076584\n"
     ]
    },
    {
     "name": "stderr",
     "output_type": "stream",
     "text": [
      "Epoch:  40%|██████████████▊                      | 2/5 [29:32<44:48, 896.22s/it]"
     ]
    },
    {
     "name": "stdout",
     "output_type": "stream",
     "text": [
      "avg_loss: 1.0871946394443512\n",
      "avg_loss: 2.208145135641098\n",
      "avg_loss: 3.3204462504386902\n",
      "avg_loss: 4.443148764371872\n",
      "avg_loss: 5.535644700527191\n",
      "Epoch 2, Dev loss 17.37960636615753\n",
      "Saving model. Best dev so far 17.37960636615753\n"
     ]
    },
    {
     "name": "stderr",
     "output_type": "stream",
     "text": [
      "Epoch:  60%|██████████████████████▏              | 3/5 [46:16<31:30, 945.04s/it]"
     ]
    },
    {
     "name": "stdout",
     "output_type": "stream",
     "text": [
      "avg_loss: 1.0587973177433014\n",
      "avg_loss: 2.0887556612491607\n",
      "avg_loss: 3.1354137086868286\n",
      "avg_loss: 4.146360642910004\n",
      "avg_loss: 5.200359970331192\n",
      "Epoch 3, Dev loss 17.27795970439911\n",
      "Saving model. Best dev so far 17.27795970439911\n"
     ]
    },
    {
     "name": "stderr",
     "output_type": "stream",
     "text": [
      "Epoch:  80%|█████████████████████████████▌       | 4/5 [59:40<14:49, 889.51s/it]"
     ]
    },
    {
     "name": "stdout",
     "output_type": "stream",
     "text": [
      "avg_loss: 0.984276692867279\n",
      "avg_loss: 1.9767412388324737\n",
      "avg_loss: 2.936294572353363\n",
      "avg_loss: 3.9340386724472047\n",
      "avg_loss: 4.927243164777756\n"
     ]
    },
    {
     "name": "stderr",
     "output_type": "stream",
     "text": [
      "Epoch: 100%|███████████████████████████████████| 5/5 [1:16:05<00:00, 913.16s/it]"
     ]
    },
    {
     "name": "stdout",
     "output_type": "stream",
     "text": [
      "Epoch 4, Dev loss 17.29110825061798\n"
     ]
    },
    {
     "name": "stderr",
     "output_type": "stream",
     "text": [
      "\n",
      "13084it [1:28:14,  2.47it/s]\n"
     ]
    }
   ],
   "source": [
    "from cPosGpt2 import *\n",
    "#postag gpt2\n",
    "GPT2_MODEL = 'gpt2'\n",
    "\n",
    "\n",
    "tokenizer = GPT2Tokenizer.from_pretrained(GPT2_MODEL,\n",
    "                                              do_lower_case=True,\n",
    "                                          cache_dir='transformers_cache')\n",
    "\n",
    "model = GPT2LMHeadModel.from_pretrained(GPT2_MODEL,\n",
    "                                        cache_dir='transformers_cache')\n",
    "\n",
    "\n",
    "file_name = 'cposgpt2_prefix_minus_one.tsv'\n",
    "\n",
    "train_cposgpt2_and_augment(model,tokenizer,train_df,val_df,output=output_file,\n",
    "                           file_name=file_name,seed = 1234,max_seq_length = 64,sample_num=num_aug)"
   ]
  },
  {
   "cell_type": "code",
   "execution_count": null,
   "id": "73cd713c-c350-45b2-aa12-4d58a58e9a03",
   "metadata": {},
   "outputs": [
    {
     "name": "stderr",
     "output_type": "stream",
     "text": [
      "/opt/homebrew/Cellar/jupyterlab/4.0.6_1/libexec/lib/python3.11/site-packages/transformers/optimization.py:429: FutureWarning: This implementation of AdamW is deprecated and will be removed in a future version. Use the PyTorch implementation torch.optim.AdamW instead, or set `no_deprecation_warning=True` to disable this warning\n",
      "  warnings.warn(\n"
     ]
    },
    {
     "name": "stdout",
     "output_type": "stream",
     "text": [
      "cgpt2 training\n"
     ]
    },
    {
     "name": "stderr",
     "output_type": "stream",
     "text": [
      "Epoch:   0%|                                              | 0/5 [00:00<?, ?it/s]"
     ]
    },
    {
     "name": "stdout",
     "output_type": "stream",
     "text": [
      "avg_loss: 1.7120942997932433\n",
      "avg_loss: 3.316014087200165\n",
      "avg_loss: 4.867480571269989\n",
      "avg_loss: 6.442589545249939\n",
      "avg_loss: 8.001554701328278\n",
      "avg_loss: 9.587982609272004\n",
      "avg_loss: 11.152831463813781\n",
      "avg_loss: 12.720307507514953\n",
      "avg_loss: 14.233120703697205\n",
      "avg_loss: 15.763820140361785\n",
      "avg_loss: 17.261793801784517\n",
      "avg_loss: 18.75474359035492\n",
      "avg_loss: 20.266566855907442\n",
      "avg_loss: 21.773999614715578\n",
      "avg_loss: 23.27723178625107\n",
      "avg_loss: 24.778072884082793\n",
      "avg_loss: 26.24092274904251\n",
      "avg_loss: 27.72086105108261\n",
      "avg_loss: 29.19671395301819\n",
      "avg_loss: 30.684862649440767\n",
      "avg_loss: 32.177723381519314\n",
      "avg_loss: 33.64429238796234\n",
      "avg_loss: 35.08990301132202\n",
      "avg_loss: 36.562321510314945\n",
      "avg_loss: 38.009129853248595\n",
      "avg_loss: 39.451931319236756\n",
      "avg_loss: 40.89427289485931\n",
      "avg_loss: 42.30923235654831\n",
      "avg_loss: 43.761856751441954\n",
      "avg_loss: 45.20148959159851\n",
      "avg_loss: 46.64146263599396\n",
      "avg_loss: 48.10056372642517\n",
      "avg_loss: 49.513588585853576\n",
      "avg_loss: 50.91195167541504\n",
      "avg_loss: 52.30929394960403\n",
      "avg_loss: 53.757033014297484\n",
      "avg_loss: 55.15918037652969\n",
      "avg_loss: 56.52497913360596\n",
      "avg_loss: 57.91937452077865\n",
      "avg_loss: 59.3343363070488\n",
      "avg_loss: 60.72534863471985\n",
      "avg_loss: 62.08082920789719\n",
      "avg_loss: 63.45239646434784\n",
      "avg_loss: 64.82531573772431\n",
      "avg_loss: 66.20873587608338\n",
      "avg_loss: 67.53319188833237\n",
      "avg_loss: 68.90127542495728\n",
      "avg_loss: 70.21918483495712\n",
      "avg_loss: 71.60532051801681\n",
      "avg_loss: 72.98750168323517\n",
      "avg_loss: 74.3573436808586\n",
      "Epoch 0, Dev loss 62.77768683433533\n",
      "Saving model. Best dev so far 62.77768683433533\n"
     ]
    },
    {
     "name": "stderr",
     "output_type": "stream",
     "text": [
      "Epoch:  20%|██████                        | 1/5 [6:23:54<25:35:36, 23034.05s/it]"
     ]
    },
    {
     "name": "stdout",
     "output_type": "stream",
     "text": [
      "avg_loss: 1.2568417823314666\n",
      "avg_loss: 2.5195317232608794\n",
      "avg_loss: 3.7944596016407015\n",
      "avg_loss: 5.086333295106888\n",
      "avg_loss: 6.386619824171066\n",
      "avg_loss: 7.688526529073715\n",
      "avg_loss: 8.974675258398056\n",
      "avg_loss: 10.259424728155135\n",
      "avg_loss: 11.512371488809585\n",
      "avg_loss: 12.793442175388336\n",
      "avg_loss: 14.081022617816926\n",
      "avg_loss: 15.364438188076019\n",
      "avg_loss: 16.656678762435913\n",
      "avg_loss: 17.910107313394548\n",
      "avg_loss: 19.198987951278685\n",
      "avg_loss: 20.44977386713028\n",
      "avg_loss: 21.7041206741333\n",
      "avg_loss: 22.986624455451967\n",
      "avg_loss: 24.239256682395936\n",
      "avg_loss: 25.509305164813995\n",
      "avg_loss: 26.749222773313523\n",
      "avg_loss: 28.0229667198658\n",
      "avg_loss: 29.26953660964966\n",
      "avg_loss: 30.515453231334686\n",
      "avg_loss: 31.759816850423814\n",
      "avg_loss: 33.01905371546745\n",
      "avg_loss: 34.27104453206062\n",
      "avg_loss: 35.529316173791884\n",
      "avg_loss: 36.79919390559196\n",
      "avg_loss: 38.04296466588974\n",
      "avg_loss: 39.29408223390579\n",
      "avg_loss: 40.54694478750229\n",
      "avg_loss: 41.794408477544785\n",
      "avg_loss: 43.04691553473472\n",
      "avg_loss: 44.24737770318985\n",
      "avg_loss: 45.490403027534484\n",
      "avg_loss: 46.7377173936367\n",
      "avg_loss: 48.02517178654671\n",
      "avg_loss: 49.28206509709358\n",
      "avg_loss: 50.50996191620827\n",
      "avg_loss: 51.74902111053467\n",
      "avg_loss: 52.963679467439654\n",
      "avg_loss: 54.21756251811981\n",
      "avg_loss: 55.4151505792141\n",
      "avg_loss: 56.64187383055687\n",
      "avg_loss: 57.898472138643264\n",
      "avg_loss: 59.15994693636894\n",
      "avg_loss: 60.36216960787773\n",
      "avg_loss: 61.60501005768776\n",
      "avg_loss: 62.81635860323906\n",
      "avg_loss: 64.0558850300312\n"
     ]
    },
    {
     "name": "stderr",
     "output_type": "stream",
     "text": [
      "Epoch:  40%|███████████▌                 | 2/5 [14:51:31<22:50:01, 27400.61s/it]"
     ]
    },
    {
     "name": "stdout",
     "output_type": "stream",
     "text": [
      "Epoch 1, Dev loss 64.4518187046051\n",
      "avg_loss: 1.1543508541584016\n",
      "avg_loss: 2.283903708457947\n",
      "avg_loss: 3.434502499103546\n",
      "avg_loss: 4.579753198623657\n",
      "avg_loss: 5.72282160282135\n",
      "avg_loss: 6.846725214719772\n",
      "avg_loss: 7.988747885227204\n",
      "avg_loss: 9.13831478357315\n",
      "avg_loss: 10.271682558059693\n",
      "avg_loss: 11.455899568796157\n",
      "avg_loss: 12.591302219629288\n",
      "avg_loss: 13.746249635219574\n",
      "avg_loss: 14.863547158241271\n",
      "avg_loss: 15.993833559751511\n",
      "avg_loss: 17.160683064460756\n",
      "avg_loss: 18.281681030988693\n",
      "avg_loss: 19.44962421298027\n",
      "avg_loss: 20.565627059936524\n",
      "avg_loss: 21.689112441539763\n",
      "avg_loss: 22.83590448975563\n",
      "avg_loss: 23.975487090349198\n",
      "avg_loss: 25.1276129758358\n",
      "avg_loss: 26.262766283750533\n",
      "avg_loss: 27.431731127500534\n",
      "avg_loss: 28.60623923063278\n",
      "avg_loss: 29.727522130012513\n",
      "avg_loss: 30.819391275644303\n",
      "avg_loss: 31.965605783462525\n",
      "avg_loss: 33.11886855483055\n",
      "avg_loss: 34.26697861433029\n",
      "avg_loss: 35.39447831273079\n",
      "avg_loss: 36.515343154668805\n",
      "avg_loss: 37.66673984766007\n",
      "avg_loss: 38.77846469283104\n",
      "avg_loss: 39.93626807689667\n",
      "avg_loss: 41.0845252096653\n",
      "avg_loss: 42.200496841669086\n",
      "avg_loss: 43.31021993875503\n",
      "avg_loss: 44.45924072504044\n",
      "avg_loss: 45.59746326327324\n",
      "avg_loss: 46.743232922554014\n",
      "avg_loss: 47.88018678426742\n",
      "avg_loss: 48.992821984291076\n",
      "avg_loss: 50.12274349570274\n",
      "avg_loss: 51.22590470314026\n",
      "avg_loss: 52.33862402677536\n",
      "avg_loss: 53.473238714933395\n",
      "avg_loss: 54.58453826189041\n",
      "avg_loss: 55.70371083021164\n",
      "avg_loss: 56.84253332734108\n",
      "avg_loss: 57.986011329889294\n"
     ]
    },
    {
     "name": "stderr",
     "output_type": "stream",
     "text": [
      "Epoch:  60%|█████████████████▍           | 3/5 [17:42:03<10:52:02, 19561.40s/it]"
     ]
    },
    {
     "name": "stdout",
     "output_type": "stream",
     "text": [
      "Epoch 2, Dev loss 66.60452008247375\n",
      "avg_loss: 1.038057999610901\n",
      "avg_loss: 2.091285609006882\n",
      "avg_loss: 3.1291810417175294\n",
      "avg_loss: 4.1757236516475675\n",
      "avg_loss: 5.194448558092117\n",
      "avg_loss: 6.23774375796318\n",
      "avg_loss: 7.290747790336609\n",
      "avg_loss: 8.342865904569626\n",
      "avg_loss: 9.376076840162277\n",
      "avg_loss: 10.450392323732377\n",
      "avg_loss: 11.526622023582458\n",
      "avg_loss: 12.582415271997451\n",
      "avg_loss: 13.6210921895504\n",
      "avg_loss: 14.639462325572968\n",
      "avg_loss: 15.72497828722\n",
      "avg_loss: 16.77106640815735\n",
      "avg_loss: 17.803266874551774\n",
      "avg_loss: 18.871560076475145\n",
      "avg_loss: 19.92203993558884\n",
      "avg_loss: 20.960871785879135\n",
      "avg_loss: 22.024539687633514\n",
      "avg_loss: 23.05157634139061\n",
      "avg_loss: 24.108312997817993\n",
      "avg_loss: 25.172402794361115\n",
      "avg_loss: 26.189005550146103\n",
      "avg_loss: 27.201998823881148\n",
      "avg_loss: 28.250508972406386\n",
      "avg_loss: 29.28158106803894\n",
      "avg_loss: 30.305207295417787\n",
      "avg_loss: 31.3485220515728\n",
      "avg_loss: 32.382054151296614\n",
      "avg_loss: 33.42643532037735\n",
      "avg_loss: 34.48597108006477\n",
      "avg_loss: 35.553123924732205\n",
      "avg_loss: 36.57240407586098\n",
      "avg_loss: 37.63838078022003\n",
      "avg_loss: 38.666129574775695\n",
      "avg_loss: 39.699696068763735\n",
      "avg_loss: 40.7288081228733\n",
      "avg_loss: 41.77319337487221\n",
      "avg_loss: 42.80263735175133\n",
      "avg_loss: 43.855394002199176\n",
      "avg_loss: 44.89692280888558\n",
      "avg_loss: 45.94125259041786\n",
      "avg_loss: 46.9918474316597\n",
      "avg_loss: 48.0381285059452\n",
      "avg_loss: 49.07053136467934\n",
      "avg_loss: 50.08040668368339\n",
      "avg_loss: 51.12450078725815\n",
      "avg_loss: 52.14067603588104\n",
      "avg_loss: 53.19235095977783\n"
     ]
    },
    {
     "name": "stderr",
     "output_type": "stream",
     "text": [
      "Epoch:  80%|████████████████████████      | 4/5 [20:59:43<4:35:20, 16520.63s/it]"
     ]
    },
    {
     "name": "stdout",
     "output_type": "stream",
     "text": [
      "Epoch 3, Dev loss 69.19950485229492\n",
      "avg_loss: 0.9389683091640473\n",
      "avg_loss: 1.8896761965751647\n",
      "avg_loss: 2.8528531730175017\n",
      "avg_loss: 3.8181228744983673\n",
      "avg_loss: 4.784767726659775\n",
      "avg_loss: 5.730236092805862\n",
      "avg_loss: 6.684550313949585\n",
      "avg_loss: 7.640456594228745\n",
      "avg_loss: 8.618424820899964\n",
      "avg_loss: 9.577537618875503\n",
      "avg_loss: 10.54418825864792\n",
      "avg_loss: 11.50101776957512\n",
      "avg_loss: 12.45768347620964\n",
      "avg_loss: 13.421581501960754\n",
      "avg_loss: 14.381175308227538\n",
      "avg_loss: 15.345340770483016\n",
      "avg_loss: 16.32780842781067\n",
      "avg_loss: 17.298552396297456\n",
      "avg_loss: 18.27144188642502\n",
      "avg_loss: 19.23925619482994\n",
      "avg_loss: 20.195664992332457\n",
      "avg_loss: 21.149246722459793\n",
      "avg_loss: 22.10843668818474\n",
      "avg_loss: 23.078090254068375\n",
      "avg_loss: 24.035144387483598\n",
      "avg_loss: 25.011197382211684\n",
      "avg_loss: 25.95589151382446\n",
      "avg_loss: 26.895030401945114\n",
      "avg_loss: 27.88444643139839\n",
      "avg_loss: 28.859923412799834\n",
      "avg_loss: 29.836016906499864\n",
      "avg_loss: 30.80674679398537\n",
      "avg_loss: 31.776614577770232\n",
      "avg_loss: 32.71392180085182\n",
      "avg_loss: 33.68518983721733\n",
      "avg_loss: 34.65116345047951\n",
      "avg_loss: 35.61409988641739\n",
      "avg_loss: 36.58604857325554\n",
      "avg_loss: 37.55518876314163\n",
      "avg_loss: 38.54858901500702\n",
      "avg_loss: 39.495474231243136\n",
      "avg_loss: 40.4632202577591\n",
      "avg_loss: 41.4564025080204\n",
      "avg_loss: 42.44319683551788\n",
      "avg_loss: 43.4122861969471\n",
      "avg_loss: 44.38162788748741\n",
      "avg_loss: 45.35373799562454\n",
      "avg_loss: 46.322420428991315\n",
      "avg_loss: 47.29578683257103\n",
      "avg_loss: 48.253951740264895\n",
      "avg_loss: 49.216996475458146\n"
     ]
    },
    {
     "name": "stderr",
     "output_type": "stream",
     "text": [
      "Epoch: 100%|████████████████████████████████| 5/5 [23:34:44<00:00, 16976.84s/it]"
     ]
    },
    {
     "name": "stdout",
     "output_type": "stream",
     "text": [
      "Epoch 4, Dev loss 70.75579476356506\n"
     ]
    },
    {
     "name": "stderr",
     "output_type": "stream",
     "text": [
      "\n",
      "60892it [4:13:14,  3.07it/s]"
     ]
    }
   ],
   "source": [
    "from cgpt2 import *\n",
    "#eda + gpt2 \n",
    "\n",
    "num_aug = 1\n",
    "file_name = 'gpt2_eda.tsv'\n",
    "x = 'snips_aug/eda.tsv'\n",
    "train_df = pd.read_csv(x,sep='\\t')\n",
    "\n",
    "train_cmodgpt2_and_augment(model,tokenizer,train_df,val_df,output=output_file,\n",
    "                           file_name=file_name,seed = 1234,max_seq_length = 64,sample_num=num_aug)"
   ]
  },
  {
   "cell_type": "code",
   "execution_count": null,
   "id": "ccca1bb8-efc7-4114-ae6c-939ab1d7844b",
   "metadata": {},
   "outputs": [],
   "source": []
  },
  {
   "cell_type": "code",
   "execution_count": null,
   "id": "56c20e9d-8882-4d51-b300-0ab1ca54a371",
   "metadata": {},
   "outputs": [],
   "source": []
  }
 ],
 "metadata": {
  "kernelspec": {
   "display_name": "Python 3 (ipykernel)",
   "language": "python",
   "name": "python3"
  },
  "language_info": {
   "codemirror_mode": {
    "name": "ipython",
    "version": 3
   },
   "file_extension": ".py",
   "mimetype": "text/x-python",
   "name": "python",
   "nbconvert_exporter": "python",
   "pygments_lexer": "ipython3",
   "version": "3.11.6"
  }
 },
 "nbformat": 4,
 "nbformat_minor": 5
}
